{
  "nbformat": 4,
  "nbformat_minor": 0,
  "metadata": {
    "colab": {
      "provenance": []
    },
    "kernelspec": {
      "name": "python3",
      "display_name": "Python 3"
    },
    "language_info": {
      "name": "python"
    }
  },
  "cells": [
    {
      "cell_type": "code",
      "source": [
        "!pip install beautifulsoup4"
      ],
      "metadata": {
        "colab": {
          "base_uri": "https://localhost:8080/"
        },
        "id": "RFVpp3USBrSl",
        "outputId": "d4b14713-25cd-456b-c520-625150c499ac"
      },
      "execution_count": 2,
      "outputs": [
        {
          "output_type": "stream",
          "name": "stdout",
          "text": [
            "Looking in indexes: https://pypi.org/simple, https://us-python.pkg.dev/colab-wheels/public/simple/\n",
            "Requirement already satisfied: beautifulsoup4 in /usr/local/lib/python3.8/dist-packages (4.6.3)\n"
          ]
        }
      ]
    },
    {
      "cell_type": "code",
      "execution_count": 23,
      "metadata": {
        "id": "7E-Jrjuk_65z",
        "colab": {
          "base_uri": "https://localhost:8080/"
        },
        "outputId": "bb2a78ab-322b-45b1-a555-5fe89ad342aa"
      },
      "outputs": [
        {
          "output_type": "stream",
          "name": "stdout",
          "text": [
            "<Response [200]>\n"
          ]
        }
      ],
      "source": [
        "from bs4 import BeautifulSoup\n",
        "import requests\n",
        "url = 'https://www.graduateshotline.com/gre-word-list.html'\n",
        "page = requests.get(url)\n",
        "print(page)\n",
        "soup = BeautifulSoup(page.text, 'lxml')"
      ]
    },
    {
      "cell_type": "code",
      "source": [
        "table = soup.find(\"table\", class_=\"tablex border1\")"
      ],
      "metadata": {
        "id": "Foum51B_CCkA"
      },
      "execution_count": 31,
      "outputs": []
    },
    {
      "cell_type": "code",
      "source": [
        "import pandas as pd\n",
        "words = pd.DataFrame(columns=[\"Word\", \"Meaning\"])\n",
        "\n",
        "for i in table.find_all(\"tr\"):\n",
        "  row_data = i.find_all(\"td\")\n",
        "  row = [j.text for j in row_data]\n",
        "  length = len(words)\n",
        "  words.loc[length] = row\n",
        "\n",
        "words"
      ],
      "metadata": {
        "colab": {
          "base_uri": "https://localhost:8080/",
          "height": 650
        },
        "id": "-D82UrlpC2Nh",
        "outputId": "d2f50124-1261-4919-c79b-d64457887b1c"
      },
      "execution_count": 30,
      "outputs": [
        {
          "output_type": "execute_result",
          "data": {
            "text/plain": [
              "               Word                                            Meaning\n",
              "0     introspection          examining one's own thoughts and feelings\n",
              "1    philanthropist                              one who loves mankind\n",
              "2          antidote        medicine used against a poison or a disease\n",
              "3            strive                 to make great efforts, to struggle\n",
              "4      ambidextrous  able to use the left hand or the right equally...\n",
              "..              ...                                                ...\n",
              "257         lampoon                          publicly mock or ridicule\n",
              "258            skit                   short piece of humorous writing \n",
              "259     incongruous         out of place; not in harmony or agreement \n",
              "260       repulsive                      causing a feeling of disgust \n",
              "261          refine                      make or become pure cultural \n",
              "\n",
              "[262 rows x 2 columns]"
            ],
            "text/html": [
              "\n",
              "  <div id=\"df-711007ee-62a3-4f3a-978e-dd5e956ebd2b\">\n",
              "    <div class=\"colab-df-container\">\n",
              "      <div>\n",
              "<style scoped>\n",
              "    .dataframe tbody tr th:only-of-type {\n",
              "        vertical-align: middle;\n",
              "    }\n",
              "\n",
              "    .dataframe tbody tr th {\n",
              "        vertical-align: top;\n",
              "    }\n",
              "\n",
              "    .dataframe thead th {\n",
              "        text-align: right;\n",
              "    }\n",
              "</style>\n",
              "<table border=\"1\" class=\"dataframe\">\n",
              "  <thead>\n",
              "    <tr style=\"text-align: right;\">\n",
              "      <th></th>\n",
              "      <th>Word</th>\n",
              "      <th>Meaning</th>\n",
              "    </tr>\n",
              "  </thead>\n",
              "  <tbody>\n",
              "    <tr>\n",
              "      <th>0</th>\n",
              "      <td>introspection</td>\n",
              "      <td>examining one's own thoughts and feelings</td>\n",
              "    </tr>\n",
              "    <tr>\n",
              "      <th>1</th>\n",
              "      <td>philanthropist</td>\n",
              "      <td>one who loves mankind</td>\n",
              "    </tr>\n",
              "    <tr>\n",
              "      <th>2</th>\n",
              "      <td>antidote</td>\n",
              "      <td>medicine used against a poison or a disease</td>\n",
              "    </tr>\n",
              "    <tr>\n",
              "      <th>3</th>\n",
              "      <td>strive</td>\n",
              "      <td>to make great efforts, to struggle</td>\n",
              "    </tr>\n",
              "    <tr>\n",
              "      <th>4</th>\n",
              "      <td>ambidextrous</td>\n",
              "      <td>able to use the left hand or the right equally...</td>\n",
              "    </tr>\n",
              "    <tr>\n",
              "      <th>...</th>\n",
              "      <td>...</td>\n",
              "      <td>...</td>\n",
              "    </tr>\n",
              "    <tr>\n",
              "      <th>257</th>\n",
              "      <td>lampoon</td>\n",
              "      <td>publicly mock or ridicule</td>\n",
              "    </tr>\n",
              "    <tr>\n",
              "      <th>258</th>\n",
              "      <td>skit</td>\n",
              "      <td>short piece of humorous writing</td>\n",
              "    </tr>\n",
              "    <tr>\n",
              "      <th>259</th>\n",
              "      <td>incongruous</td>\n",
              "      <td>out of place; not in harmony or agreement</td>\n",
              "    </tr>\n",
              "    <tr>\n",
              "      <th>260</th>\n",
              "      <td>repulsive</td>\n",
              "      <td>causing a feeling of disgust</td>\n",
              "    </tr>\n",
              "    <tr>\n",
              "      <th>261</th>\n",
              "      <td>refine</td>\n",
              "      <td>make or become pure cultural</td>\n",
              "    </tr>\n",
              "  </tbody>\n",
              "</table>\n",
              "<p>262 rows × 2 columns</p>\n",
              "</div>\n",
              "      <button class=\"colab-df-convert\" onclick=\"convertToInteractive('df-711007ee-62a3-4f3a-978e-dd5e956ebd2b')\"\n",
              "              title=\"Convert this dataframe to an interactive table.\"\n",
              "              style=\"display:none;\">\n",
              "        \n",
              "  <svg xmlns=\"http://www.w3.org/2000/svg\" height=\"24px\"viewBox=\"0 0 24 24\"\n",
              "       width=\"24px\">\n",
              "    <path d=\"M0 0h24v24H0V0z\" fill=\"none\"/>\n",
              "    <path d=\"M18.56 5.44l.94 2.06.94-2.06 2.06-.94-2.06-.94-.94-2.06-.94 2.06-2.06.94zm-11 1L8.5 8.5l.94-2.06 2.06-.94-2.06-.94L8.5 2.5l-.94 2.06-2.06.94zm10 10l.94 2.06.94-2.06 2.06-.94-2.06-.94-.94-2.06-.94 2.06-2.06.94z\"/><path d=\"M17.41 7.96l-1.37-1.37c-.4-.4-.92-.59-1.43-.59-.52 0-1.04.2-1.43.59L10.3 9.45l-7.72 7.72c-.78.78-.78 2.05 0 2.83L4 21.41c.39.39.9.59 1.41.59.51 0 1.02-.2 1.41-.59l7.78-7.78 2.81-2.81c.8-.78.8-2.07 0-2.86zM5.41 20L4 18.59l7.72-7.72 1.47 1.35L5.41 20z\"/>\n",
              "  </svg>\n",
              "      </button>\n",
              "      \n",
              "  <style>\n",
              "    .colab-df-container {\n",
              "      display:flex;\n",
              "      flex-wrap:wrap;\n",
              "      gap: 12px;\n",
              "    }\n",
              "\n",
              "    .colab-df-convert {\n",
              "      background-color: #E8F0FE;\n",
              "      border: none;\n",
              "      border-radius: 50%;\n",
              "      cursor: pointer;\n",
              "      display: none;\n",
              "      fill: #1967D2;\n",
              "      height: 32px;\n",
              "      padding: 0 0 0 0;\n",
              "      width: 32px;\n",
              "    }\n",
              "\n",
              "    .colab-df-convert:hover {\n",
              "      background-color: #E2EBFA;\n",
              "      box-shadow: 0px 1px 2px rgba(60, 64, 67, 0.3), 0px 1px 3px 1px rgba(60, 64, 67, 0.15);\n",
              "      fill: #174EA6;\n",
              "    }\n",
              "\n",
              "    [theme=dark] .colab-df-convert {\n",
              "      background-color: #3B4455;\n",
              "      fill: #D2E3FC;\n",
              "    }\n",
              "\n",
              "    [theme=dark] .colab-df-convert:hover {\n",
              "      background-color: #434B5C;\n",
              "      box-shadow: 0px 1px 3px 1px rgba(0, 0, 0, 0.15);\n",
              "      filter: drop-shadow(0px 1px 2px rgba(0, 0, 0, 0.3));\n",
              "      fill: #FFFFFF;\n",
              "    }\n",
              "  </style>\n",
              "\n",
              "      <script>\n",
              "        const buttonEl =\n",
              "          document.querySelector('#df-711007ee-62a3-4f3a-978e-dd5e956ebd2b button.colab-df-convert');\n",
              "        buttonEl.style.display =\n",
              "          google.colab.kernel.accessAllowed ? 'block' : 'none';\n",
              "\n",
              "        async function convertToInteractive(key) {\n",
              "          const element = document.querySelector('#df-711007ee-62a3-4f3a-978e-dd5e956ebd2b');\n",
              "          const dataTable =\n",
              "            await google.colab.kernel.invokeFunction('convertToInteractive',\n",
              "                                                     [key], {});\n",
              "          if (!dataTable) return;\n",
              "\n",
              "          const docLinkHtml = 'Like what you see? Visit the ' +\n",
              "            '<a target=\"_blank\" href=https://colab.research.google.com/notebooks/data_table.ipynb>data table notebook</a>'\n",
              "            + ' to learn more about interactive tables.';\n",
              "          element.innerHTML = '';\n",
              "          dataTable['output_type'] = 'display_data';\n",
              "          await google.colab.output.renderOutput(dataTable, element);\n",
              "          const docLink = document.createElement('div');\n",
              "          docLink.innerHTML = docLinkHtml;\n",
              "          element.appendChild(docLink);\n",
              "        }\n",
              "      </script>\n",
              "    </div>\n",
              "  </div>\n",
              "  "
            ]
          },
          "metadata": {},
          "execution_count": 30
        }
      ]
    },
    {
      "cell_type": "code",
      "source": [
        "# Helper Functions\n",
        "def replaceCommas(word):\n",
        "  if (',' in word):\n",
        "    word = word.replace(',', '')\n",
        "  if (';' in word):\n",
        "    word = word.replace(';', '')\n",
        "  if ('/' in word):\n",
        "    word = word.replace('/', ' ')\n",
        "  if ('-' in word):\n",
        "    word = word.replace('-', ' ')\n",
        "  if ('(' in word):\n",
        "    word = word.replace('(', '')\n",
        "  if (')' in word):\n",
        "    word = word.replace(')', '')\n",
        "  \n",
        "  return word\n",
        "\n",
        "def removeArticlesAndPrepositions(meaning_list):\n",
        "  dummy = ['a', 'an', 'the', 'at', 'of', 'or', 'off', 'in', 'to', 'by', 'from']\n",
        "  for word in dummy:\n",
        "    if word in meaning_list:\n",
        "      meaning_list.remove(word)\n",
        "  return meaning_list\n",
        "\n",
        "def check(meaning, response):\n",
        "  meaning = replaceCommas(meaning)\n",
        "  meaning_list = meaning.split(' ')\n",
        "  meaninig_list = removeArticlesAndPrepositions(meaning_list)\n",
        "  response = replaceCommas(response)\n",
        "  response_list = response.split(' ')\n",
        "\n",
        "  count = 0\n",
        "  for word in response_list:\n",
        "    if (word in meaning_list):\n",
        "      count += 1\n",
        "    \n",
        "  if count >= 1:\n",
        "    return True\n",
        "  return False"
      ],
      "metadata": {
        "id": "SMN7v459MXjI"
      },
      "execution_count": 76,
      "outputs": []
    },
    {
      "cell_type": "code",
      "source": [
        "import random\n",
        "\n",
        "while True:\n",
        "  print(\"-------------------------------------------------------------------------------------------------------------------------\")  \n",
        "  index = random.randint(0, len(words))\n",
        "  word = words.loc[index][0]\n",
        "  meaning = words.loc[index][1].strip()\n",
        "  print(word)\n",
        "  response = input(\"Enter the meaning of this word: \")\n",
        "  if check(response, meaning):\n",
        "    print(\"Correct. Next One.\")\n",
        "  else:\n",
        "    print(\"Wrong. This is the correct meaning.\")\n",
        "    print(meaning)\n",
        "  \n",
        "  exit = input(\"Continue? (y/n) \")\n",
        "  if (exit == 'n'):\n",
        "    break"
      ],
      "metadata": {
        "colab": {
          "base_uri": "https://localhost:8080/"
        },
        "id": "e9txchsjD_K8",
        "outputId": "cf4ed8e2-f35f-4cde-f012-4bdbd1e11185"
      },
      "execution_count": 77,
      "outputs": [
        {
          "name": "stdout",
          "output_type": "stream",
          "text": [
            "-------------------------------------------------------------------------------------------------------------------------\n",
            "agile\n",
            "Enter the meaning of this word: active, quick moving\n",
            "Correct. Next One.\n",
            "Continue? (y/n) y\n",
            "-------------------------------------------------------------------------------------------------------------------------\n",
            "extralegal\n",
            "Enter the meaning of this word: outside law\n",
            "Correct. Next One.\n",
            "Continue? (y/n) n\n"
          ]
        }
      ]
    }
  ]
}